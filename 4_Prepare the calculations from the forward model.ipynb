{
 "cells": [
  {
   "cell_type": "code",
   "execution_count": 1,
   "metadata": {},
   "outputs": [],
   "source": [
    "import os\n",
    "import scipy.io as sio\n",
    "import sys \n",
    "import h5py as hp\n",
    "import argparse\n",
    "import random\n",
    "from random import choices, choice\n",
    "import matplotlib.pyplot as plt\n",
    "from matplotlib import animation\n",
    "from matplotlib import colors\n",
    "from IPython.display import HTML, display, Image\n",
    "from numpy.fft import ifft2,fft2,fft,ifft,fftfreq, fftshift\n",
    "from scipy.signal import convolve2d, correlate2d\n",
    "from IPython.display import HTML, display, Image\n",
    "import time\n",
    "from tqdm.auto import tqdm\n",
    "from scipy.io import loadmat\n",
    "from scipy.interpolate import interp1d\n",
    "\n",
    "import torch\n",
    "import math\n",
    "import torchvision\n",
    "import torchvision.transforms as transforms\n",
    "import torch.nn as nn\n",
    "import torch.nn.functional as F\n",
    "from torch.autograd import Variable\n",
    "from torch.utils import data\n",
    "from tifffile import imread\n",
    "from torchsummary import summary\n",
    "from torch.nn.utils import spectral_norm\n",
    "import itertools\n",
    "\n",
    "\n",
    "def rebin(arr, new_shape):\n",
    "    shape = (new_shape[0], arr.shape[0] // new_shape[0],\n",
    "             new_shape[1], arr.shape[1] // new_shape[1])\n",
    "    return arr.reshape(shape).mean(-1).mean(1)\n",
    "\n",
    "def rebin1d(arr, new_shape):\n",
    "    shape = (new_shape, arr.shape[0] // new_shape)\n",
    "    return arr.reshape(shape).mean(-1)\n",
    "\n",
    "def normalize(x):\n",
    "    return (x-np.amin(x))/(np.amax(x)-np.amin(x))\n",
    "\n",
    "def centralpadding(arr, new_shape):\n",
    "    if new_shape[0]>=arr.shape[0]:\n",
    "        newarr = np.zeros(new_shape,dtype=complex)\n",
    "        newarr[(new_shape[0] - arr.shape[0]) //2 : (new_shape[0] + arr.shape[0]) //2 ,\n",
    "               (new_shape[1] - arr.shape[1]) //2 : (new_shape[1] + arr.shape[1]) //2 ] = arr\n",
    "    else:\n",
    "        newarr= arr[(-new_shape[0] + arr.shape[0]) //2 : (new_shape[0] + arr.shape[0]) //2 ,\n",
    "               (-new_shape[1] + arr.shape[1]) //2 : (new_shape[1] + arr.shape[1]) //2 ]\n",
    "    return newarr\n",
    "\n",
    "def radial_profile(data, center):\n",
    "    y, x = np.indices((data.shape))\n",
    "    r = np.sqrt((x - center[0])**2 + (y - center[1])**2)\n",
    "    r = r.astype(np.int)\n",
    "    tbin = np.bincount(r.ravel(), data.ravel())\n",
    "    nr = np.bincount(r.ravel())\n",
    "    radialprofile = tbin / nr\n",
    "    return radialprofile\n",
    "\n",
    "def moving_average_smooth(data,window_width):\n",
    "    cumsum_vec = np.cumsum(np.insert(data, 0, 0)) \n",
    "    ma_vec = (cumsum_vec[window_width:] - cumsum_vec[:-window_width]) / window_width\n",
    "    return ma_vec\n",
    "def autocor2d(I):\n",
    "    f = fft2(I)\n",
    "    f = np.absolute(f)**2\n",
    "    autocor2d = ifftshift(ifft2(f))/I.shape[0]/I.shape[1]\n",
    "    return autocor2d\n",
    "\n",
    "def axis1norm(X):\n",
    "    Y=np.zeros((X.shape[0],X.shape[1]))\n",
    "    for i in range(X.shape[0]):\n",
    "        Y[i,:] = X[i,:]/np.mean(X[i,:]**1)\n",
    "    return Y\n",
    "\n",
    "def axis0norm(X):\n",
    "    Y=np.zeros((X.shape[0],X.shape[1]))\n",
    "    for i in range(X.shape[1]):\n",
    "        Y[:,i] = X[:,i]/np.mean(X[:,i]) \n",
    "    return Y\n",
    "\n",
    "def ReLU(x):\n",
    "    return x * (x > 0)\n",
    "\n",
    "\n",
    "name = [#one interval\n",
    "        '0-106 μm',\n",
    "        '106-180 μm',\n",
    "        '180-250 μm',\n",
    "        '250-300 μm',\n",
    "        '300-355 μm',\n",
    "        '355-425 μm',\n",
    "        '425-500 μm',\n",
    "        '500-1000 μm',\n",
    "        #two interval\n",
    "        '106-250 μm',\n",
    "        '180-300 μm',\n",
    "        '250-355 μm',\n",
    "        '300-425 μm',\n",
    "        '355-500 μm',\n",
    "        #three interval\n",
    "        '180-355 μm',\n",
    "        '250-425 μm',\n",
    "        '300-500 μm',\n",
    "        '355-1000 μm',\n",
    "        #four interval\n",
    "        '180-425 μm',\n",
    "        '250-500 μm',\n",
    "        #five interval\n",
    "        '180-500 μm']\n",
    "\n"
   ]
  },
  {
   "cell_type": "code",
   "execution_count": 2,
   "metadata": {},
   "outputs": [
    {
     "name": "stdout",
     "output_type": "stream",
     "text": [
      "(20, 20, 192)\n"
     ]
    }
   ],
   "source": [
    "#load the measured autocorrelations and PSDs\n",
    "data = np.load('../expdata/ASI1830MM_data/20curves_PSD_cumul_auto_sa.npz')\n",
    "PSD_exp = data[\"PSD_exp\"]\n",
    "auto_mean = data['auto_mean']\n",
    "print(PSD_exp.shape)"
   ]
  },
  {
   "cell_type": "code",
   "execution_count": 3,
   "metadata": {},
   "outputs": [
    {
     "name": "stdout",
     "output_type": "stream",
     "text": [
      "(64, 64, 192)\n"
     ]
    }
   ],
   "source": [
    "\n",
    "x = np.arange(-32, 32, 1)\n",
    "y = np.arange(-32, 32, 1)\n",
    "xx, yy = np.meshgrid(x, y, sparse=True)\n",
    "u = np.sqrt(xx**2 + yy**2)\n",
    "\n",
    "#### important parameter #####\n",
    "#can be calculated from the parameters in the optics, or fit from the side lobe positions. \n",
    "#There two methods gives the a close D value.\n",
    "D=1.49 \n",
    "\n",
    "#the starting size and ending size\n",
    "d = 1.49/4800*1200  #4800um is the beam spot size. 1200um is the maximum size we interested in \n",
    "d_start = d/1200*10 #10um is the minimum size we interested in \n",
    "##############################\n",
    "\n",
    "delta = 0.0001\n",
    "psd_pixel = 192\n",
    "\n",
    "#Define the forward operators\n",
    "H = np.zeros((64,64,psd_pixel)) #psd_pixel x height x width\n",
    "r = np.linspace(d_start, d, psd_pixel)\n",
    "\n",
    "for i in range(H.shape[-1]):\n",
    "    H[:,:,i] = np.sin(r[i]*(u+delta)) /(u+delta)#/(r[i]+delta)\n",
    "##############################\n",
    "print(H.shape)\n"
   ]
  },
  {
   "cell_type": "code",
   "execution_count": 4,
   "metadata": {},
   "outputs": [
    {
     "data": {
      "application/vnd.jupyter.widget-view+json": {
       "model_id": "eefc29c140d94ef78cf42c16236ddd7c",
       "version_major": 2,
       "version_minor": 0
      },
      "text/plain": [
       "HBox(children=(HTML(value=''), FloatProgress(value=0.0, max=2000.0), HTML(value='')))"
      ]
     },
     "metadata": {},
     "output_type": "display_data"
    },
    {
     "name": "stdout",
     "output_type": "stream",
     "text": [
      "\n"
     ]
    }
   ],
   "source": [
    "#Generate the synthetic dataest\n",
    "\n",
    "#beta distributions\n",
    "def beta(x,a,b):\n",
    "    return x**(a-1)*(1-x)**(b-1)\n",
    "\n",
    "S = 2000\n",
    "Nd = 192\n",
    "\n",
    "auto_sim = np.zeros((S,64,64))\n",
    "PSD_sim = np.zeros((S,Nd))\n",
    "cumul_sim = np.zeros((S,Nd))\n",
    "\n",
    "for i in tqdm(range(S)):\n",
    "    #generate two parameters for the beta distribution\n",
    "    u1=np.random.random_sample()*0.5+0.1    #0.15-0.5\n",
    "    v1=np.random.random_sample()*45+10   #10-50\n",
    "    a1=u1*v1\n",
    "    b1=(1-u1)*v1\n",
    "\n",
    "    PSD_t=beta(np.linspace(0,1,Nd),a1,b1)\n",
    "    PSD_t=PSD_t/(np.arange(Nd)+3)**6 # devide by r^6 to mimic the long tail effect from the measured PSD\n",
    "    PSD_t = PSD_t/np.sum(PSD_t)\n",
    "    \n",
    "    cumul_sim[i]=np.flip(np.cumsum(np.flip(PSD_t)))\n",
    "    cumul_sim[i]=cumul_sim[i]/cumul_sim[i,0]\n",
    "        \n",
    "    PSD_sim[i]=PSD_t\n",
    "    \n",
    "    #apply the forward operator\n",
    "    z0 = np.abs(2*np.sin(D/2*(u+delta)) /(u+delta)/D)**2 \n",
    "    z1 = np.abs(np.matmul(H,PSD_sim[i]))**2\n",
    "    z1 = z1/np.amax(z1)\n",
    "    #get the \n",
    "    auto_sim[i] = z1*z0\n"
   ]
  },
  {
   "cell_type": "code",
   "execution_count": 5,
   "metadata": {},
   "outputs": [
    {
     "data": {
      "application/vnd.jupyter.widget-view+json": {
       "model_id": "f949c2c5131a4662aefb21bee4aab8cd",
       "version_major": 2,
       "version_minor": 0
      },
      "text/plain": [
       "HBox(children=(HTML(value=''), FloatProgress(value=0.0, max=20.0), HTML(value='')))"
      ]
     },
     "metadata": {},
     "output_type": "display_data"
    },
    {
     "name": "stdout",
     "output_type": "stream",
     "text": [
      "\n"
     ]
    }
   ],
   "source": [
    "#generate calculation images from measured PSDs\n",
    "auto_expgen = np.zeros((20,20,64,64))\n",
    "\n",
    "for i in tqdm(range(20)):\n",
    "    for j in (range(20)):\n",
    "        \n",
    "        z0 = np.abs(2*np.sin(D/2*(u+delta)) /(u+delta)/D)**2\n",
    "        z1 = np.abs(np.matmul(H,PSD_exp[i,j]))**2\n",
    "        z1 = z1/np.amax(z1)\n",
    "        auto_expgen[i] = z1*z0\n"
   ]
  },
  {
   "cell_type": "code",
   "execution_count": 9,
   "metadata": {},
   "outputs": [
    {
     "name": "stderr",
     "output_type": "stream",
     "text": [
      "<ipython-input-9-d616d3c94140>:20: MatplotlibDeprecationWarning: Adding an axes using the same arguments as a previous axes currently reuses the earlier instance.  In a future version, a new instance will always be created and returned.  Meanwhile, this warning can be suppressed, and the future behavior ensured, by passing a unique label to each axes instance.\n",
      "  plt.axes().set_aspect('equal')\n"
     ]
    },
    {
     "data": {
      "text/plain": [
       "(0.0, 64.0, 0.0, 64.0)"
      ]
     },
     "execution_count": 9,
     "metadata": {},
     "output_type": "execute_result"
    },
    {
     "data": {
      "image/png": "[encoded data removed]",
      "text/plain": [
       "<Figure size 360x360 with 1 Axes>"
      ]
     },
     "metadata": {
      "needs_background": "light"
     },
     "output_type": "display_data"
    }
   ],
   "source": [
    "#plot some calculations from the measured PSD.\n",
    "#the selected index \n",
    "plot_idx = 0\n",
    "\n",
    "z0 = np.abs(2*np.sin(D/2*(u+delta)) /(u+delta)/D)**1\n",
    "z1 = np.abs(np.matmul(H,PSD_exp[plot_idx,-1]))\n",
    "z1 = z1/np.amax(z1)\n",
    "\n",
    "plot_cal = z1*z0\n",
    "plot_exp = np.abs(auto_mean[plot_idx,:,:])**0.125\n",
    "plot_exp = ReLU(plot_exp-0.29)\n",
    "plot_exp = normalize(plot_exp)\n",
    "plot_final = np.zeros((64,64))\n",
    "plot_final[0:32] = plot_cal[0:32]\n",
    "plot_final[32:64] = plot_exp[32:64]\n",
    "\n",
    "plt.figure(figsize=(5,5))\n",
    "plt.pcolormesh(plot_final,label=name[plot_idx], cmap=plt.cm.hot,vmin=0)\n",
    "# plt.colorbar()\n",
    "plt.axes().set_aspect('equal')\n",
    "plt.title(\"up:measurement; down:calculation @ \" + name[plot_idx])\n",
    "plt.axis('off')\n"
   ]
  },
  {
   "cell_type": "code",
   "execution_count": null,
   "metadata": {},
   "outputs": [],
   "source": []
  }
 ],
 "metadata": {
  "kernelspec": {
   "display_name": "Python 3",
   "language": "python",
   "name": "python3"
  },
  "language_info": {
   "codemirror_mode": {
    "name": "ipython",
    "version": 3
   },
   "file_extension": ".py",
   "mimetype": "text/x-python",
   "name": "python",
   "nbconvert_exporter": "python",
   "pygments_lexer": "ipython3",
   "version": "3.8.5"
  },
  "latex_envs": {
   "LaTeX_envs_menu_present": true,
   "autoclose": false,
   "autocomplete": true,
   "bibliofile": "biblio.bib",
   "cite_by": "apalike",
   "current_citInitial": 1,
   "eqLabelWithNumbers": true,
   "eqNumInitial": 1,
   "hotkeys": {
    "equation": "Ctrl-E",
    "itemize": "Ctrl-I"
   },
   "labels_anchors": false,
   "latex_user_defs": false,
   "report_style_numbering": false,
   "user_envs_cfg": false
  },
  "toc": {
   "base_numbering": 1,
   "nav_menu": {},
   "number_sections": true,
   "sideBar": true,
   "skip_h1_title": false,
   "title_cell": "Table of Contents",
   "title_sidebar": "Contents",
   "toc_cell": false,
   "toc_position": {},
   "toc_section_display": true,
   "toc_window_display": false
  },
  "varInspector": {
   "cols": {
    "lenName": 16,
    "lenType": 16,
    "lenVar": 40
   },
   "kernels_config": {
    "python": {
     "delete_cmd_postfix": "",
     "delete_cmd_prefix": "del ",
     "library": "var_list.py",
     "varRefreshCmd": "print(var_dic_list())"
    },
    "r": {
     "delete_cmd_postfix": ") ",
     "delete_cmd_prefix": "rm(",
     "library": "var_list.r",
     "varRefreshCmd": "cat(var_dic_list()) "
    }
   },
   "types_to_exclude": [
    "module",
    "function",
    "builtin_function_or_method",
    "instance",
    "_Feature"
   ],
   "window_display": false
  }
 },
 "nbformat": 4,
 "nbformat_minor": 4
}
